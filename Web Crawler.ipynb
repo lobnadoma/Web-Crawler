{
 "cells": [
  {
   "cell_type": "markdown",
   "metadata": {},
   "source": [
    "Lobna Aboudoma\n",
    "900181189"
   ]
  },
  {
   "cell_type": "code",
   "execution_count": 4,
   "metadata": {},
   "outputs": [],
   "source": [
    "import requests \n",
    "from bs4 import BeautifulSoup\n",
    "import csv "
   ]
  },
  {
   "cell_type": "code",
   "execution_count": 5,
   "metadata": {},
   "outputs": [],
   "source": [
    "from selenium.webdriver.support.ui import WebDriverWait\n",
    "from selenium.webdriver.common.by import By\n",
    "from selenium.webdriver.support import expected_conditions as EC\n",
    "from selenium import webdriver\n",
    "from selenium.common.exceptions import NoSuchElementException\n",
    "from selenium import webdriver\n",
    "from selenium.webdriver.common.keys import Keys\n",
    "import numpy as np\n",
    "import pandas as pd\n",
    "from selenium import webdriver\n",
    "from webdriver_manager.chrome import ChromeDriverManager\n",
    "\n",
    "path = \"/Users/lobna/Desktop/Database/chromedriver\"\n",
    "driver = webdriver.Chrome(path) \n"
   ]
  },
  {
   "cell_type": "code",
   "execution_count": 6,
   "metadata": {},
   "outputs": [],
   "source": [
    "name = []\n",
    "types = []\n",
    "rating = []\n",
    "duration = []\n",
    "year = []\n",
    "genre = []\n",
    "description = []\n",
    "date = []\n",
    "revenue = []\n",
    "movieID = []\n"
   ]
  },
  {
   "cell_type": "code",
   "execution_count": 296,
   "metadata": {},
   "outputs": [
    {
     "name": "stdout",
     "output_type": "stream",
     "text": [
      "657 697 657 661 657 657 657 657 697\n"
     ]
    }
   ],
   "source": [
    "print(len(name), len(rating), len(duration), len(year), len(genre), len(description), len(date), len(revenue), len(movieID))"
   ]
  },
  {
   "cell_type": "code",
   "execution_count": 90,
   "metadata": {},
   "outputs": [
    {
     "ename": "IndexError",
     "evalue": "string index out of range",
     "output_type": "error",
     "traceback": [
      "\u001b[0;31m---------------------------------------------------------------------------\u001b[0m",
      "\u001b[0;31mIndexError\u001b[0m                                Traceback (most recent call last)",
      "\u001b[0;32m<ipython-input-90-4414ef96fd4c>\u001b[0m in \u001b[0;36m<module>\u001b[0;34m\u001b[0m\n\u001b[1;32m      1\u001b[0m \u001b[0;32mfor\u001b[0m \u001b[0mi\u001b[0m \u001b[0;32min\u001b[0m \u001b[0mrange\u001b[0m\u001b[0;34m(\u001b[0m\u001b[0mlen\u001b[0m\u001b[0;34m(\u001b[0m\u001b[0mdurationn\u001b[0m\u001b[0;34m)\u001b[0m\u001b[0;34m)\u001b[0m\u001b[0;34m:\u001b[0m\u001b[0;34m\u001b[0m\u001b[0;34m\u001b[0m\u001b[0m\n\u001b[0;32m----> 2\u001b[0;31m     \u001b[0;32mif\u001b[0m \u001b[0mdurationn\u001b[0m\u001b[0;34m[\u001b[0m\u001b[0mi\u001b[0m\u001b[0;34m]\u001b[0m\u001b[0;34m==\u001b[0m\u001b[0mdurationn\u001b[0m\u001b[0;34m[\u001b[0m\u001b[0mi\u001b[0m\u001b[0;34m+\u001b[0m\u001b[0;36m1\u001b[0m\u001b[0;34m]\u001b[0m\u001b[0;34m:\u001b[0m\u001b[0;34m\u001b[0m\u001b[0;34m\u001b[0m\u001b[0m\n\u001b[0m\u001b[1;32m      3\u001b[0m         \u001b[0mprint\u001b[0m\u001b[0;34m(\u001b[0m\u001b[0mdurationn\u001b[0m\u001b[0;34m[\u001b[0m\u001b[0mi\u001b[0m\u001b[0;34m]\u001b[0m\u001b[0;34m,\u001b[0m \u001b[0;34m\": \"\u001b[0m\u001b[0;34m,\u001b[0m\u001b[0mname\u001b[0m\u001b[0;34m[\u001b[0m\u001b[0mi\u001b[0m\u001b[0;34m]\u001b[0m\u001b[0;34m,\u001b[0m \u001b[0;34m\" \"\u001b[0m\u001b[0;34m,\u001b[0m \u001b[0mname\u001b[0m\u001b[0;34m[\u001b[0m\u001b[0mi\u001b[0m\u001b[0;34m+\u001b[0m\u001b[0;36m1\u001b[0m\u001b[0;34m]\u001b[0m\u001b[0;34m,\u001b[0m \u001b[0;34m\"   \"\u001b[0m\u001b[0;34m,\u001b[0m \u001b[0mi\u001b[0m\u001b[0;34m)\u001b[0m\u001b[0;34m\u001b[0m\u001b[0;34m\u001b[0m\u001b[0m\n",
      "\u001b[0;31mIndexError\u001b[0m: string index out of range"
     ]
    }
   ],
   "source": [
    "for i in range(len(year)):\n",
    "    if year[i]==year[i+1]:\n",
    "        print(durationn[i], \": \",name[i], \" \", name[i+1], \"   \", i)"
   ]
  },
  {
   "cell_type": "code",
   "execution_count": 98,
   "metadata": {
    "scrolled": false
   },
   "outputs": [
    {
     "name": "stderr",
     "output_type": "stream",
     "text": [
      "[WDM] - ====== WebDriver manager ======\n",
      "[WDM] - Current google-chrome version is 90.0.4430\n",
      "[WDM] - Get LATEST driver version for 90.0.4430\n"
     ]
    },
    {
     "name": "stdout",
     "output_type": "stream",
     "text": [
      "\n",
      "\n"
     ]
    },
    {
     "name": "stderr",
     "output_type": "stream",
     "text": [
      "[WDM] - Get LATEST driver version for 90.0.4430\n",
      "[WDM] - Trying to download new driver from https://chromedriver.storage.googleapis.com/90.0.4430.24/chromedriver_mac64.zip\n",
      "[WDM] - Driver has been saved in cache [/Users/lobna/.wdm/drivers/chromedriver/mac64/90.0.4430.24]\n"
     ]
    }
   ],
   "source": [
    "genres = ['Thriller', 'Musical', 'Thriller', 'Animation', 'Crime', 'War', 'Science', 'Fiction',\n",
    "          'Fantasy', 'Drama', 'Horror', 'Romance', 'Sport', 'Biography', 'Family', 'Short',\n",
    "          'Comedy', 'Adventure', 'Documentary', 'History', 'Action', 'Mystery', 'Western', 'Religious']\n",
    "\n",
    "\n",
    "driver = webdriver.Chrome(ChromeDriverManager().install())   \n",
    "for pagenum in np.arange(94,96,1):\n",
    "    page_url = \"https://elcinema.com/en/index/work/country/eg?page=\"+ str(pagenum)\n",
    "    driver.get(page_url)\n",
    "\n",
    "    for i in np.arange(2,27,1):\n",
    "\n",
    "        \n",
    "        film_type = driver.find_element_by_xpath(\"/html/body/div[3]/div/table/tbody/tr[\"+str(i)+\"]/td[3]\")\n",
    "\n",
    "        film_year = driver.find_element_by_xpath(\"/html/body/div[3]/div/table/tbody/tr[\"+str(i)+\"]/td[4]\")\n",
    "        string = film_year.text\n",
    "\n",
    "        filmType = film_type.text\n",
    "\n",
    "        yearint = int(string)\n",
    "\n",
    "        if(yearint<=2021 and yearint >= 2011) and (filmType == 'Movie'):\n",
    "            title = driver.find_element_by_xpath(\"/html/body/div[3]/div/table/tbody/tr[\"+str(i)+\"]/td[2]/a[2]\")\n",
    "            driver.implicitly_wait(3)\n",
    "            title.click()\n",
    "            #print(i)\n",
    "            year.append(yearint)\n",
    "            #print('year: ',year)\n",
    "\n",
    "            types.append(filmType)\n",
    "            #print('type: ', types)\n",
    "\n",
    "            driver.implicitly_wait(6)\n",
    "\n",
    "            film_rating = driver.find_element_by_xpath(\"/html/body/div[3]/div[1]/div[5]/div/div[2]/div[1]/div[1]/a/div/div\")\n",
    "            rating.append(film_rating.text)\n",
    "            #print('rating: ',rating)\n",
    "\n",
    "            film_duration = driver.find_element_by_xpath(\"/html/body/div[3]/div[1]/div[5]/div/div[2]/div[1]/div[2]/ul[1]/li[3]\") \n",
    "            duration.append(film_duration.text)\n",
    "            #print('duration: ', duration)\n",
    "\n",
    "            filmID = driver.current_url.split(\"/\")[5]\n",
    "            movieID.append(filmID)\n",
    "            #print(\"ID: \", movieID)\n",
    "            \n",
    "            try:\n",
    "                film_date = driver.find_element_by_xpath(\"/html/body/div[3]/div[1]/div[5]/div/div[2]/div[1]/div[2]/ul[2]/li[1]/ul/li/a[1]\")\n",
    "                check = film_date.text\n",
    "                check = check.split(' ')\n",
    "                if(len(check) == 2):\n",
    "                    date.append(film_date.text)\n",
    "                else:\n",
    "                    date.append('N/A')\n",
    "            except NoSuchElementException:\n",
    "                date.append('N/A')\n",
    "\n",
    "\n",
    "            try:\n",
    "                film_genre = driver.find_element_by_xpath(\"/html/body/div[3]/div[1]/div[5]/div/div[2]/div[1]/div[2]/ul[2]/li/ul/li/a[1]\")\n",
    "                if(film_genre.text in genres):\n",
    "                    genre.append(film_genre.text)\n",
    "                else:\n",
    "                    genre.append('N/A')        \n",
    "            except NoSuchElementException:\n",
    "                genre.append('N/A')\n",
    "            \n",
    "            \n",
    "            try:\n",
    "                film_description = driver.find_element_by_xpath(\"/html/body/div[3]/div[1]/div[5]/div/div[2]/p\")\n",
    "                description.append(film_description.text)\n",
    "            except NoSuchElementException:\n",
    "                description.append('N/A')\n",
    "            #print('description: ',description)\n",
    "\n",
    "            try:\n",
    "                film_revenue = driver.find_element_by_xpath(\"/html/body/div[3]/div[1]/div[11]/div/div[2]/ul[9]/li[2]/text()\")\n",
    "                revenue.append(film_revenue.text)\n",
    "            except NoSuchElementException:\n",
    "                revenue.append('N/A')\n",
    "            #print('revenue: ',revenue)\n",
    "\n",
    "            try:\n",
    "                film_title = driver.find_element_by_xpath(\"/html/body/div[3]/div[1]/div[4]/h1/span[1]\")\n",
    "                name.append(film_title.text)\n",
    "            except NoSuchElementException:\n",
    "                film_title\n",
    "            #print('name: ',name)\n",
    "            driver.back()   \n"
   ]
  },
  {
   "cell_type": "code",
   "execution_count": 117,
   "metadata": {},
   "outputs": [
    {
     "data": {
      "text/plain": [
       "697"
      ]
     },
     "execution_count": 117,
     "metadata": {},
     "output_type": "execute_result"
    }
   ],
   "source": [
    "len(movieID)\n",
    "import pandas as pd\n",
    "df= pd.DataFrame()\n",
    "df['MovieName'] = name\n",
    "df['Description'] = description\n",
    "df['Release_Date'] = date\n",
    "df['Duration'] = duration\n",
    "df['Movie_ID'] = movieID\n",
    "df['genre'] = genre"
   ]
  },
  {
   "cell_type": "code",
   "execution_count": 292,
   "metadata": {},
   "outputs": [],
   "source": [
    "\n",
    "df2['Rating'] = ratingg\n",
    "df2.head(20)\n",
    "df2.to_csv('FfMovies_Data.csv')"
   ]
  },
  {
   "cell_type": "code",
   "execution_count": 294,
   "metadata": {},
   "outputs": [
    {
     "data": {
      "text/html": [
       "<div>\n",
       "<style scoped>\n",
       "    .dataframe tbody tr th:only-of-type {\n",
       "        vertical-align: middle;\n",
       "    }\n",
       "\n",
       "    .dataframe tbody tr th {\n",
       "        vertical-align: top;\n",
       "    }\n",
       "\n",
       "    .dataframe thead th {\n",
       "        text-align: right;\n",
       "    }\n",
       "</style>\n",
       "<table border=\"1\" class=\"dataframe\">\n",
       "  <thead>\n",
       "    <tr style=\"text-align: right;\">\n",
       "      <th></th>\n",
       "      <th>MovieName</th>\n",
       "      <th>Description</th>\n",
       "      <th>Release_Date</th>\n",
       "      <th>Duration</th>\n",
       "      <th>Movie_ID</th>\n",
       "      <th>genre</th>\n",
       "      <th>Rating</th>\n",
       "    </tr>\n",
       "  </thead>\n",
       "  <tbody>\n",
       "    <tr>\n",
       "      <th>0</th>\n",
       "      <td>Orfanelli's Hall</td>\n",
       "      <td>NaN</td>\n",
       "      <td>NaN</td>\n",
       "      <td>pre-production</td>\n",
       "      <td>2068611</td>\n",
       "      <td>Drama</td>\n",
       "      <td>0.0</td>\n",
       "    </tr>\n",
       "    <tr>\n",
       "      <th>1</th>\n",
       "      <td>For Rent</td>\n",
       "      <td>As Mukhtar lives in a rented apartment, he fin...</td>\n",
       "      <td>NaN</td>\n",
       "      <td>85 minutes</td>\n",
       "      <td>2068366</td>\n",
       "      <td>Comedy</td>\n",
       "      <td>0.0</td>\n",
       "    </tr>\n",
       "    <tr>\n",
       "      <th>2</th>\n",
       "      <td>في عز الضهر</td>\n",
       "      <td>NaN</td>\n",
       "      <td>NaN</td>\n",
       "      <td>pre-production</td>\n",
       "      <td>2067595</td>\n",
       "      <td>NaN</td>\n",
       "      <td>0.0</td>\n",
       "    </tr>\n",
       "    <tr>\n",
       "      <th>3</th>\n",
       "      <td>The crime</td>\n",
       "      <td>NaN</td>\n",
       "      <td>NaN</td>\n",
       "      <td>pre-production</td>\n",
       "      <td>2067574</td>\n",
       "      <td>Action</td>\n",
       "      <td>0.0</td>\n",
       "    </tr>\n",
       "    <tr>\n",
       "      <th>4</th>\n",
       "      <td>فارس</td>\n",
       "      <td>NaN</td>\n",
       "      <td>NaN</td>\n",
       "      <td>pre-production</td>\n",
       "      <td>2067401</td>\n",
       "      <td>NaN</td>\n",
       "      <td>0.0</td>\n",
       "    </tr>\n",
       "    <tr>\n",
       "      <th>...</th>\n",
       "      <td>...</td>\n",
       "      <td>...</td>\n",
       "      <td>...</td>\n",
       "      <td>...</td>\n",
       "      <td>...</td>\n",
       "      <td>...</td>\n",
       "      <td>...</td>\n",
       "    </tr>\n",
       "    <tr>\n",
       "      <th>652</th>\n",
       "      <td>Martyr and Square</td>\n",
       "      <td>NaN</td>\n",
       "      <td>NaN</td>\n",
       "      <td>53 minutes</td>\n",
       "      <td>2012376</td>\n",
       "      <td>Documentary</td>\n",
       "      <td>0.0</td>\n",
       "    </tr>\n",
       "    <tr>\n",
       "      <th>653</th>\n",
       "      <td>A Guinea Pig</td>\n",
       "      <td>NaN</td>\n",
       "      <td>NaN</td>\n",
       "      <td>3 minutes</td>\n",
       "      <td>2018611</td>\n",
       "      <td>Biography</td>\n",
       "      <td>4.3</td>\n",
       "    </tr>\n",
       "    <tr>\n",
       "      <th>654</th>\n",
       "      <td>zafeir</td>\n",
       "      <td>Nothing is heard through that far away window,...</td>\n",
       "      <td>8 April</td>\n",
       "      <td>19 minutes</td>\n",
       "      <td>2008633</td>\n",
       "      <td>NaN</td>\n",
       "      <td>3.5</td>\n",
       "    </tr>\n",
       "    <tr>\n",
       "      <th>655</th>\n",
       "      <td>Here it's not over yet</td>\n",
       "      <td>NaN</td>\n",
       "      <td>NaN</td>\n",
       "      <td>10 minutes</td>\n",
       "      <td>2009238</td>\n",
       "      <td>Short</td>\n",
       "      <td>6.5</td>\n",
       "    </tr>\n",
       "    <tr>\n",
       "      <th>656</th>\n",
       "      <td>عيد الحب</td>\n",
       "      <td>NaN</td>\n",
       "      <td>NaN</td>\n",
       "      <td>Released</td>\n",
       "      <td>2018380</td>\n",
       "      <td>NaN</td>\n",
       "      <td>7.3</td>\n",
       "    </tr>\n",
       "  </tbody>\n",
       "</table>\n",
       "<p>657 rows × 7 columns</p>\n",
       "</div>"
      ],
      "text/plain": [
       "                  MovieName  \\\n",
       "0          Orfanelli's Hall   \n",
       "1                  For Rent   \n",
       "2               في عز الضهر   \n",
       "3                 The crime   \n",
       "4                      فارس   \n",
       "..                      ...   \n",
       "652       Martyr and Square   \n",
       "653            A Guinea Pig   \n",
       "654                  zafeir   \n",
       "655  Here it's not over yet   \n",
       "656                عيد الحب   \n",
       "\n",
       "                                           Description Release_Date  \\\n",
       "0                                                  NaN          NaN   \n",
       "1    As Mukhtar lives in a rented apartment, he fin...          NaN   \n",
       "2                                                  NaN          NaN   \n",
       "3                                                  NaN          NaN   \n",
       "4                                                  NaN          NaN   \n",
       "..                                                 ...          ...   \n",
       "652                                                NaN          NaN   \n",
       "653                                                NaN          NaN   \n",
       "654  Nothing is heard through that far away window,...      8 April   \n",
       "655                                                NaN          NaN   \n",
       "656                                                NaN          NaN   \n",
       "\n",
       "           Duration Movie_ID        genre  Rating  \n",
       "0    pre-production  2068611        Drama     0.0  \n",
       "1        85 minutes  2068366       Comedy     0.0  \n",
       "2    pre-production  2067595          NaN     0.0  \n",
       "3    pre-production  2067574       Action     0.0  \n",
       "4    pre-production  2067401          NaN     0.0  \n",
       "..              ...      ...          ...     ...  \n",
       "652      53 minutes  2012376  Documentary     0.0  \n",
       "653       3 minutes  2018611    Biography     4.3  \n",
       "654      19 minutes  2008633          NaN     3.5  \n",
       "655      10 minutes  2009238        Short     6.5  \n",
       "656        Released  2018380          NaN     7.3  \n",
       "\n",
       "[657 rows x 7 columns]"
      ]
     },
     "execution_count": 294,
     "metadata": {},
     "output_type": "execute_result"
    }
   ],
   "source": [
    "df2"
   ]
  },
  {
   "cell_type": "code",
   "execution_count": 119,
   "metadata": {},
   "outputs": [
    {
     "data": {
      "text/plain": [
       "0      0.0\n",
       "1      0.0\n",
       "2      0.0\n",
       "3      0.0\n",
       "4      0.0\n",
       "      ... \n",
       "692    0.0\n",
       "693    0.0\n",
       "694    0.0\n",
       "695    0.0\n",
       "696    0.0\n",
       "Name: Rating, Length: 697, dtype: float64"
      ]
     },
     "execution_count": 119,
     "metadata": {},
     "output_type": "execute_result"
    }
   ],
   "source": [
    "df3 = pd.read_csv(\"Movies_Data.csv\")\n",
    "movieID =  df3['Movie_ID']\n",
    "movieID = [str(int) for int in movieID]\n"
   ]
  },
  {
   "cell_type": "code",
   "execution_count": 456,
   "metadata": {},
   "outputs": [],
   "source": [
    "df2.to_csv('Movies_Data.csv')\n"
   ]
  },
  {
   "cell_type": "code",
   "execution_count": 20,
   "metadata": {},
   "outputs": [
    {
     "name": "stderr",
     "output_type": "stream",
     "text": [
      "[WDM] - ====== WebDriver manager ======\n",
      "[WDM] - Current google-chrome version is 90.0.4430\n",
      "[WDM] - Get LATEST driver version for 90.0.4430\n"
     ]
    },
    {
     "name": "stdout",
     "output_type": "stream",
     "text": [
      "\n",
      "\n"
     ]
    },
    {
     "name": "stderr",
     "output_type": "stream",
     "text": [
      "[WDM] - Driver [/Users/lobna/.wdm/drivers/chromedriver/mac64/90.0.4430.24/chromedriver] found in cache\n"
     ]
    },
    {
     "ename": "AttributeError",
     "evalue": "'NoneType' object has no attribute 'click'",
     "output_type": "error",
     "traceback": [
      "\u001b[0;31m---------------------------------------------------------------------------\u001b[0m",
      "\u001b[0;31mAttributeError\u001b[0m                            Traceback (most recent call last)",
      "\u001b[0;32m<ipython-input-20-358288e3bdeb>\u001b[0m in \u001b[0;36m<module>\u001b[0;34m\u001b[0m\n\u001b[1;32m     18\u001b[0m         \u001b[0;32mtry\u001b[0m\u001b[0;34m:\u001b[0m\u001b[0;34m\u001b[0m\u001b[0;34m\u001b[0m\u001b[0m\n\u001b[1;32m     19\u001b[0m             \u001b[0mactor\u001b[0m \u001b[0;34m=\u001b[0m \u001b[0mdriver\u001b[0m\u001b[0;34m.\u001b[0m\u001b[0mfind_element_by_xpath\u001b[0m\u001b[0;34m(\u001b[0m\u001b[0;34m\"/html/body/div[3]/div[1]/div[7]/div/div[2]/ul/li[\"\u001b[0m\u001b[0;34m+\u001b[0m\u001b[0mstr\u001b[0m\u001b[0;34m(\u001b[0m\u001b[0mi\u001b[0m\u001b[0;34m)\u001b[0m\u001b[0;34m+\u001b[0m\u001b[0;34m\"]/div/ul[2]/li[1]/a\"\u001b[0m\u001b[0;34m)\u001b[0m\u001b[0;34m\u001b[0m\u001b[0;34m\u001b[0m\u001b[0m\n\u001b[0;32m---> 20\u001b[0;31m             \u001b[0mactor\u001b[0m\u001b[0;34m.\u001b[0m\u001b[0mclick\u001b[0m\u001b[0;34m(\u001b[0m\u001b[0;34m)\u001b[0m\u001b[0;34m\u001b[0m\u001b[0;34m\u001b[0m\u001b[0m\n\u001b[0m\u001b[1;32m     21\u001b[0m             \u001b[0mdriver\u001b[0m\u001b[0;34m.\u001b[0m\u001b[0mimplicitly_wait\u001b[0m\u001b[0;34m(\u001b[0m\u001b[0;36m5\u001b[0m\u001b[0;34m)\u001b[0m\u001b[0;34m\u001b[0m\u001b[0;34m\u001b[0m\u001b[0m\n\u001b[1;32m     22\u001b[0m             \u001b[0mactorID\u001b[0m \u001b[0;34m=\u001b[0m \u001b[0mdriver\u001b[0m\u001b[0;34m.\u001b[0m\u001b[0mcurrent_url\u001b[0m\u001b[0;34m.\u001b[0m\u001b[0msplit\u001b[0m\u001b[0;34m(\u001b[0m\u001b[0;34m\"/\"\u001b[0m\u001b[0;34m)\u001b[0m\u001b[0;34m[\u001b[0m\u001b[0;36m5\u001b[0m\u001b[0;34m]\u001b[0m\u001b[0;34m\u001b[0m\u001b[0;34m\u001b[0m\u001b[0m\n",
      "\u001b[0;31mAttributeError\u001b[0m: 'NoneType' object has no attribute 'click'"
     ]
    }
   ],
   "source": [
    "cast = []\n",
    "castbio = []\n",
    "castName = []\n",
    "castID = []\n",
    "dateofbirth = []\n",
    "yearofbirth = []\n",
    "bio = []\n",
    "nationality = []\n",
    "driver = webdriver.Chrome(ChromeDriverManager().install())\n",
    "URL = 'https://elcinema.com/en/work/'\n",
    "column_names = [\"movieID\", \"castID\", \"castRole\"]\n",
    "MovieCast = pd.DataFrame(columns = column_names)\n",
    "\n",
    "for id in movieID:\n",
    "    page_url = URL+ id\n",
    "    driver.get(page_url)\n",
    "    for i in np.arange(1,10):\n",
    "        try:\n",
    "            actor = driver.find_element_by_xpath(\"/html/body/div[3]/div[1]/div[7]/div/div[2]/ul/li[\"+str(i)+\"]/div/ul[2]/li[1]/a\")\n",
    "            actor.click()\n",
    "            driver.implicitly_wait(5)\n",
    "            actorID = driver.current_url.split(\"/\")[5]\n",
    "            \n",
    "            if(actorID not in castID):\n",
    "                castID.append(actorID)\n",
    "                name = driver.find_element_by_xpath(\"/html/body/div[3]/div[1]/div[4]/h1/span[1]\")\n",
    "                castName.append(name.text)\n",
    "\n",
    "                biog = driver.find_element_by_xpath(\"/html/body/div[3]/div[1]/div[5]/div/div[2]/p\")\n",
    "                bio.append(biog.text)\n",
    "                nation = driver.find_element_by_xpath(\"/html/body/div[3]/div[1]/div[5]/div/div[2]/ul/li[1]/ul/li[2]/a\")\n",
    "                nationality.append(nation.text)\n",
    "                dob = driver.find_element_by_xpath(\"/html/body/div[3]/div[1]/div[5]/div/div[2]/ul/li[2]/ul/li[2]/a[1]\")\n",
    "                dateofbirth.append(dob.text)\n",
    "                to_append = [id, actorID, 'actor']\n",
    "                df_length = len(MovieCast)\n",
    "                MovieCast.loc[df_length] = to_append\n",
    "                driver.back()\n",
    "        except NoSuchElementException:\n",
    "                continue\n"
   ]
  },
  {
   "cell_type": "code",
   "execution_count": 28,
   "metadata": {},
   "outputs": [
    {
     "data": {
      "text/plain": [
       "['',\n",
       " 'Hala Shiha',\n",
       " 'Maged El Kedwany',\n",
       " 'Hagag Abdel Azim',\n",
       " 'Injy Al Moqaddem',\n",
       " 'Ahmed Anan',\n",
       " 'Haifa Wehbe',\n",
       " 'Ahmed El Fishawy',\n",
       " 'Mostafa Khater',\n",
       " 'Karim Abdulaziz',\n",
       " 'Dina El Sherbiny',\n",
       " 'Karim Fahmy',\n",
       " 'Hamdy Al-Merghany',\n",
       " 'Asser Yassine']"
      ]
     },
     "execution_count": 28,
     "metadata": {},
     "output_type": "execute_result"
    }
   ],
   "source": [
    "castName\n"
   ]
  },
  {
   "cell_type": "code",
   "execution_count": null,
   "metadata": {},
   "outputs": [],
   "source": []
  },
  {
   "cell_type": "code",
   "execution_count": 32,
   "metadata": {},
   "outputs": [
    {
     "data": {
      "text/plain": [
       "['Born in Cairo on August the 16th – a determined Leo-,Tamer Abbas Hosy earned his degree in Mass Communication from 6 of October University then started to purse his singing career. His early beginnings started by his introduction to renowned TV presenter ‘Salma Al Shamaa’, who...Read more',\n",
       " 'A retired actor, is the daughter of the plastic artist Ahmad Zulficar Sheeha and sister of actors Hana, Inaas and Maya. As a young actor playing the role of super star Hussein Fahmy’s daughter in the TV series “Kalemaat i.e. Words” has caught the audience eye. However playing the...Read more',\n",
       " 'Maged El Kedwany is an Egyptian film and television actor. In 1967, he was born in Shubra in Cairo, but lived in Kuwait up until age 18. He began his professional career while studying design at the Faculty of Fine Arts. He began acting in a number of amateur plays, which led to...Read more',\n",
       " 'Injy El Mokkaddem is an Egyptian actress and TV host who studied psychology at the American University in Cairo. In the beginning of her career, she worked as a TV host and presenter on the Orbit TV network on the program “El Salem We El Thaaban” (Snake and Ladder). She also part...Read more',\n",
       " 'Haifa Wehbe is a Lebanese artist. Her career began at the tender age of 16 when she took part in the “Miss South Lebanon” beauty contest. That opening provided her with the opportunity to work as a fashion model in addition to granting her with slots in video clips and TV...Read more',\n",
       " 'Ahmed El Fishawy is an Egyptian actor, and the son of actor Farouq El Fishawy. He started acting at the age of nine, debuting alongside his father in “Al Morshed” (The , appearing in small roles in several films, among which was “El Batal” (The Champion) with Ahmed Zaki in 1998....Read more',\n",
       " 'Son of famous director Mohamed Abdel Aziz, Karim was no stranger to the world of film making. He graduated from the institute of high arts, directing division, in 1997. He worked as an assistant director for a short time before deciding to jump in front of the camera. Director...Read more',\n",
       " 'Dina El Sherbiny is an Egyptian actress. She started as a TV host for the program “Shababeek” on Dream satellite channel, but her growing admiration to acting made her join the Marwa Gebril acting school, where she studied for a year. She then auditioned for the TV show “Ard...Read more',\n",
       " 'Karim Fahmy is an Egyptian actor, and brother of screenwriter Ahmed Fahmy. He studied in the Faculty of Dentistry in Cairo. He then entered the media after being selected to participate in the TV show “Ard Khas” (Special Screening), playing his real life ...Read more',\n",
       " 'Asser Yaseen was raised in a middle class home. His father is from Sohag (but lived) in Alexandria. His mother, Mona Al Dagheidy, is from Port Said.\\nHe has a younger brother called Islam and they are both graduated from the faculty of engineering.']"
      ]
     },
     "execution_count": 32,
     "metadata": {},
     "output_type": "execute_result"
    }
   ],
   "source": [
    "bio"
   ]
  },
  {
   "cell_type": "code",
   "execution_count": 29,
   "metadata": {},
   "outputs": [
    {
     "data": {
      "text/plain": [
       "['16 August',\n",
       " '23 February',\n",
       " '10 December',\n",
       " '23 July',\n",
       " '10 March',\n",
       " '16 February',\n",
       " '17 August',\n",
       " '17 March',\n",
       " '3 December',\n",
       " '25 February']"
      ]
     },
     "execution_count": 29,
     "metadata": {},
     "output_type": "execute_result"
    }
   ],
   "source": [
    "dateofbirth"
   ]
  },
  {
   "cell_type": "code",
   "execution_count": 22,
   "metadata": {},
   "outputs": [
    {
     "data": {
      "text/plain": [
       "['2060425#google_vignette',\n",
       " '1064474',\n",
       " '1031917',\n",
       " '1078649',\n",
       " '1103774',\n",
       " '1101827',\n",
       " '1100286',\n",
       " '1074887',\n",
       " '2069218',\n",
       " '1001574',\n",
       " '1977129',\n",
       " '1977130',\n",
       " '2067668',\n",
       " '1100272']"
      ]
     },
     "execution_count": 22,
     "metadata": {},
     "output_type": "execute_result"
    }
   ],
   "source": [
    "castID"
   ]
  },
  {
   "cell_type": "code",
   "execution_count": null,
   "metadata": {},
   "outputs": [],
   "source": [
    "CastM = pd.DataFrame()\n",
    "CastM['Cast_ID'] = cast\n",
    "CastM['Date of Birth'] = dateofbirth\n",
    "CastM['Name'] = castName\n",
    "CastM['Biography'] = bio\n",
    "CastM.to_csv('CastM.csv')"
   ]
  },
  {
   "cell_type": "code",
   "execution_count": 496,
   "metadata": {},
   "outputs": [],
   "source": [
    "MovieCast.to_csv(\"MovieCast.csv\")"
   ]
  }
 ],
 "metadata": {
  "kernelspec": {
   "display_name": "Python 3",
   "language": "python",
   "name": "python3"
  },
  "language_info": {
   "codemirror_mode": {
    "name": "ipython",
    "version": 3
   },
   "file_extension": ".py",
   "mimetype": "text/x-python",
   "name": "python",
   "nbconvert_exporter": "python",
   "pygments_lexer": "ipython3",
   "version": "3.8.5"
  }
 },
 "nbformat": 4,
 "nbformat_minor": 4
}
